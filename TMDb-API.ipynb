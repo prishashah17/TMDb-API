{
 "cells": [
  {
   "cell_type": "markdown",
   "id": "eb9dd036",
   "metadata": {},
   "source": [
    "<b>Find the 'id' of the movie \"Andhadhun\" using TMDb API.\n",
    "\n",
    "Output Format:\n",
    "\n",
    "Print the id of the movie.</b>"
   ]
  },
  {
   "cell_type": "code",
   "execution_count": 1,
   "id": "b7a58b49",
   "metadata": {},
   "outputs": [
    {
     "name": "stdout",
     "output_type": "stream",
     "text": [
      "534780\n"
     ]
    }
   ],
   "source": [
    "import requests\n",
    "api_key = \"e226f4a5f5bace766952aa0d17182959\"\n",
    "api_link = \"https://api.themoviedb.org/3\"\n",
    "params = {'query':\"Andhadhun\", 'api_key':api_key}\n",
    "header = {'Accept': 'application/json'}\n",
    "response = requests.get(api_link + \"/search/movie\", headers = header, params=params)\n",
    "data = response.json()\n",
    "results = data.get('results')\n",
    "for result in results:\n",
    "    if result.get('title') == 'Andhadhun':\n",
    "        print(result.get('id'))"
   ]
  },
  {
   "cell_type": "markdown",
   "id": "cd49e125",
   "metadata": {},
   "source": [
    "<b> Fetch the company id company 'Marvel Studios' using TMDb. Print the id. </b>"
   ]
  },
  {
   "cell_type": "code",
   "execution_count": 2,
   "id": "a1508e7d",
   "metadata": {},
   "outputs": [
    {
     "name": "stdout",
     "output_type": "stream",
     "text": [
      "420\n"
     ]
    }
   ],
   "source": [
    "import requests\n",
    "api_key = \"b0a53d521764ab3bc5732e74a5cc06c9\"\n",
    "api_link = \"https://api.themoviedb.org/3\"\n",
    "params = {'query':\"Marvel Studios\", 'api_key':api_key}\n",
    "header = {'Accept': 'application/json'}\n",
    "\n",
    "\n",
    "\n",
    "response = requests.get(api_link + \"/search/company\", headers = header, params=params)\n",
    "data = response.json()\n",
    "results = data.get('results')\n",
    "for result in results:\n",
    "    if result.get('name') == 'Marvel Studios':\n",
    "        print(result.get('id'))\n",
    "\n"
   ]
  },
  {
   "cell_type": "markdown",
   "id": "ad2d08c5",
   "metadata": {},
   "source": [
    "<b> Find the vote count and vote average of the movie \"3 Idiots\" using the TMDb API\n",
    "\n",
    "Output format: Vote Count , Vote Average </b>"
   ]
  },
  {
   "cell_type": "code",
   "execution_count": 3,
   "id": "14b38c56",
   "metadata": {},
   "outputs": [
    {
     "name": "stdout",
     "output_type": "stream",
     "text": [
      "2233 7.991\n"
     ]
    }
   ],
   "source": [
    "import requests\n",
    "api_key = \"7db3160f5a6a9f49bb1ef8f6a2bcc230\"\n",
    "api_link = \"https://api.themoviedb.org/3\"\n",
    "params = {'query':\"3 Idiots\", 'api_key':api_key}\n",
    "header = {'Accept': \"application/json\"}\n",
    "data = requests.get(api_link + \"/search/movie\", headers = header, params=params)\n",
    "python_data = data.json()\n",
    "results=python_data.get('results')\n",
    "for result in results:\n",
    "    if(result['title']=='3 Idiots'):\n",
    "        print(result['vote_count'],result['vote_average'])\n",
    "#print(results[0]['vote_count'],results[0]['vote_average'])\n",
    "\n"
   ]
  },
  {
   "cell_type": "markdown",
   "id": "0a246a4d",
   "metadata": {},
   "source": [
    "<b> Fetch the names of top 5 similar movies to 'Inception' from the TMDb API.\n",
    "\n",
    "Note:\n",
    "While fetching the movie id, use the \"original_title\" field not the \"title\". Because the \"title\" field may contain duplicate values.\n",
    "Output Format:\n",
    "Print the name of the movies in a new line.\n",
    "movie_name_1\n",
    "movie_name_2\n",
    "and so on </b>"
   ]
  },
  {
   "cell_type": "code",
   "execution_count": 4,
   "id": "90317770",
   "metadata": {},
   "outputs": [
    {
     "name": "stdout",
     "output_type": "stream",
     "text": [
      "Gods of Egypt\n",
      "Sharknado\n",
      "The Price\n",
      "Blade Runner\n",
      "Earth Girls Are Easy\n"
     ]
    }
   ],
   "source": [
    "import requests\n",
    "## Write your code here\n",
    "api_key = \"b0a53d521764ab3bc5732e74a5cc06c9\"\n",
    "api_link = \"https://api.themoviedb.org/3\"\n",
    "params = {'query':\"Inception\", 'api_key':api_key}\n",
    "header = {'Accept': 'application/json'}\n",
    "\n",
    "response = requests.get(api_link + \"/search/movie\", headers=header, params = params)\n",
    "data= response.json()\n",
    "results = data.get('results')\n",
    "for result in results:\n",
    "    if result.get('original_title')=='Inception':\n",
    "        id = result.get('id')\n",
    "    \n",
    "params2 = {'api_key':api_key}\n",
    "response2 = requests.get(api_link + \"/movie/\" + str(id) + '/similar', headers=header, params = params2)\n",
    "data2= response2.json()\n",
    "results2 = data2.get('results')\n",
    "for result in results2[:5]:\n",
    "    print(result.get('title'))"
   ]
  },
  {
   "cell_type": "markdown",
   "id": "0647bca5",
   "metadata": {},
   "source": [
    "<b> Fetch the top rated english movies in the US region using the TMDb API. From the result, print the first 10 movies which have original language as english. Also print their genres.\n",
    "\n",
    "Note: Do not use the search/movies API for finding genres.\n",
    "\n",
    "Output Format:\n",
    "movie_name_1 - genre_1, genre_2 ....\n",
    "and so on.. </b>"
   ]
  },
  {
   "cell_type": "code",
   "execution_count": 6,
   "id": "9593c3d9",
   "metadata": {},
   "outputs": [
    {
     "name": "stdout",
     "output_type": "stream",
     "text": [
      "The Shawshank Redemption - Drama, Crime, \n",
      "The Godfather - Drama, Crime, \n",
      "The Godfather Part II - Drama, Crime, \n",
      "Schindler's List - Drama, History, War, \n",
      "12 Angry Men - Drama, \n",
      "The Dark Knight - Drama, Action, Crime, Thriller, \n",
      "The Green Mile - Fantasy, Drama, Crime, \n",
      "Pulp Fiction - Thriller, Crime, \n",
      "The Lord of the Rings: The Return of the King - Adventure, Fantasy, Action, \n",
      "Forrest Gump - Comedy, Drama, Romance, \n"
     ]
    }
   ],
   "source": [
    "import requests \n",
    "\n",
    "api_key = \"e226f4a5f5bace766952aa0d17182959\" \n",
    "api_link = \"https://api.themoviedb.org/3\" \n",
    "header = {'Accept': 'application/json'} \n",
    "params = {'api_key':api_key, 'region':'US'} \n",
    "response = requests.get(api_link + \"/movie/top_rated\", headers = header, params = params) \n",
    "\n",
    "data = response.json() \n",
    "results = data.get('results') \n",
    "\n",
    "title_array = [] \n",
    "genre_id_array = [] \n",
    "\n",
    "for result in results: \n",
    "    if result.get('original_language') == 'en': \n",
    "        title_array.append(result.get('title')) \n",
    "        genre_id_array.append(result.get('genre_ids')) \n",
    "        \n",
    "# To get the genre name corresponding to genre_id \n",
    "response2 = requests.get(api_link + \"/genre/movie/list\", headers = header, params = params) \n",
    "data2 = response2.json() \n",
    "genres = data2.get('genres') \n",
    "mapping = {} \n",
    "\n",
    "for genre in genres: \n",
    "    mapping[genre.get('id')] = genre.get('name') \n",
    "\n",
    "for i in range(10): \n",
    "    print(title_array[i], \"-\", end=\" \") \n",
    "    for id in genre_id_array[i]: \n",
    "        print(mapping.get(id), end = \", \") \n",
    "    print()\n"
   ]
  },
  {
   "cell_type": "markdown",
   "id": "5a596827",
   "metadata": {},
   "source": [
    "<b> Find the name and birthplace of the present most popular person according to TMDb API.\n",
    "\n",
    "Output Format:\n",
    "id\n",
    "name - birthplace </b>"
   ]
  },
  {
   "cell_type": "code",
   "execution_count": 7,
   "id": "a376fdb4",
   "metadata": {},
   "outputs": [
    {
     "name": "stdout",
     "output_type": "stream",
     "text": [
      "12799\n",
      "Jeremy Piven - New York City, New York, USA\n"
     ]
    }
   ],
   "source": [
    "import requests\n",
    "\n",
    "url='https://api.themoviedb.org/3/person/popular'\n",
    "headers={\"accept\":\"application/json\"}\n",
    "response=requests.get(url,headers=headers,params={'api_key':'7db3160f5a6a9f49bb1ef8f6a2bcc230'})\n",
    "python_data=response.json()\n",
    "results=python_data.get('results')\n",
    "id=results[0]['id']\n",
    "\n",
    "url2 = \"https://api.themoviedb.org/3/person/\" + str(id) + \"?language=en-US\"\n",
    "response1=requests.get(url2,headers=headers,params={'api_key':'7db3160f5a6a9f49bb1ef8f6a2bcc230'})\n",
    "python_data1=response1.json()\n",
    "print(python_data1['id'])\n",
    "print(python_data1['name']+' - '+python_data1['place_of_birth'])"
   ]
  },
  {
   "cell_type": "markdown",
   "id": "e754731e",
   "metadata": {},
   "source": [
    "<b> Fetch the Instagram and Twitter handle of Indian Actress \"Alia Bhatt\" from the TMDb API.\n",
    "\n",
    "Output Format\n",
    "Print the Instagram and Twitter IDs space separated.\n",
    "instagram_id twitter_id </b> "
   ]
  },
  {
   "cell_type": "code",
   "execution_count": 8,
   "id": "24d0aca1",
   "metadata": {},
   "outputs": [
    {
     "name": "stdout",
     "output_type": "stream",
     "text": [
      "aliaabhatt   Aliaa08\n"
     ]
    }
   ],
   "source": [
    "import requests\n",
    "\n",
    "url1='https://api.themoviedb.org/3/search/person'\n",
    "headers={\"accept\": \"application/json\"}\n",
    "params={'query':'Alia Bhatt','api_key':'7db3160f5a6a9f49bb1ef8f6a2bcc230'}\n",
    "response=requests.get(url1,headers=headers,params=params)\n",
    "python_data=response.json()\n",
    "results=python_data.get('results')\n",
    "id=results[0]['id']\n",
    "\n",
    "url='https://api.themoviedb.org/3'\n",
    "params1={'api_key':'7db3160f5a6a9f49bb1ef8f6a2bcc230'}\n",
    "response=requests.get(url+'/person/'+str(id)+'/external_ids',headers=headers,params=params1)\n",
    "python_data1=response.json()\n",
    "print(python_data1['instagram_id'],' ',python_data1['twitter_id'])"
   ]
  },
  {
   "cell_type": "markdown",
   "id": "727c4ed7",
   "metadata": {},
   "source": [
    "<b> Fetch the names of the character played by Tom Cruise in the movies:\n",
    "\n",
    "Top Gun\n",
    "Mission: Impossible - Fallout\n",
    "Minority Report\n",
    "Edge of Tomorrow\n",
    "Output Format:\n",
    "Print the names of the characters played by Tom Cruise line separated, in the respective order given in question. </b>"
   ]
  },
  {
   "cell_type": "code",
   "execution_count": 9,
   "id": "69200870",
   "metadata": {},
   "outputs": [
    {
     "name": "stdout",
     "output_type": "stream",
     "text": [
      "Lt. Pete 'Maverick' Mitchell\n",
      "Ethan Hunt\n",
      "Chief John Anderton [Pre-Crime]\n",
      "Maj. William 'Bill' Cage\n"
     ]
    }
   ],
   "source": [
    "import requests\n",
    "\n",
    "url='https://api.themoviedb.org/3/search/person'\n",
    "headers={\"accept\": \"application/json\"}\n",
    "params={'query':'Tom Cruise','api_key':'7db3160f5a6a9f49bb1ef8f6a2bcc230'}\n",
    "response=requests.get(url,headers=headers,params=params)\n",
    "python_data=response.json()\n",
    "results=python_data.get('results')\n",
    "for result in results:\n",
    "    id=result['id']\n",
    "\n",
    "url1='https://api.themoviedb.org/3'\n",
    "movies=['Top Gun', 'Mission: Impossible - Fallout', 'Minority Report', 'Edge of Tomorrow']\n",
    "response1=requests.get(url1+'/person/'+str(id)+'/movie_credits',headers=headers,params=params)\n",
    "python_data=response1.json()\n",
    "for i in movies:\n",
    "    for j in python_data['cast']:\n",
    "        if j['title']==i:\n",
    "            print(j['character'])\n",
    "            break"
   ]
  },
  {
   "cell_type": "markdown",
   "id": "f4a67aeb",
   "metadata": {},
   "source": [
    "<b> Did James McAvoy play a role in the movie Deadpool 2. Print Yes or No. </b>"
   ]
  },
  {
   "cell_type": "code",
   "execution_count": 11,
   "id": "c19b4ca9",
   "metadata": {},
   "outputs": [
    {
     "name": "stdout",
     "output_type": "stream",
     "text": [
      "Yes\n"
     ]
    }
   ],
   "source": [
    "import requests\n",
    "import json\n",
    "\n",
    "url='https://api.themoviedb.org/3/search/person'\n",
    "headers={\"accept\": \"application/json\"}\n",
    "params={'query':'James McAvoy','api_key':'7db3160f5a6a9f49bb1ef8f6a2bcc230'}\n",
    "response=requests.get(url,headers=headers,params=params)\n",
    "python_data=response.json()\n",
    "results=python_data.get('results')\n",
    "for result in results:\n",
    "    if(result['name']=='James McAvoy'):\n",
    "        id=result['id']\n",
    "\n",
    "url1='https://api.themoviedb.org/3'\n",
    "params1={'api_key':'7db3160f5a6a9f49bb1ef8f6a2bcc230'}\n",
    "response1=requests.get(url1+'/person/'+str(id)+'/movie_credits',headers=headers,params=params)\n",
    "python_data=response1.json()\n",
    "for i in python_data['cast']:\n",
    "    if(i['original_title']=='Deadpool 2'):\n",
    "        flag=True\n",
    "if flag==True:\n",
    "    print('Yes')\n",
    "else:\n",
    "    print('No')\n",
    "\n",
    "\n"
   ]
  },
  {
   "cell_type": "markdown",
   "id": "e6c4be3c",
   "metadata": {},
   "source": [
    "<b> Using the result obtained in previous question, find out if James McAvoy was credited for his role in movie Deadpool 2. Print Yes or No. </b>"
   ]
  },
  {
   "cell_type": "code",
   "execution_count": 12,
   "id": "491bced1",
   "metadata": {},
   "outputs": [
    {
     "name": "stdout",
     "output_type": "stream",
     "text": [
      "Yes\n"
     ]
    }
   ],
   "source": [
    "import requests\n",
    "import json\n",
    "\n",
    "url='https://api.themoviedb.org/3/search/person'\n",
    "headers={\"accept\": \"application/json\"}\n",
    "params={'query':'James McAvoy','api_key':'7db3160f5a6a9f49bb1ef8f6a2bcc230'}\n",
    "response=requests.get(url,headers=headers,params=params)\n",
    "python_data=response.json()\n",
    "results=python_data.get('results')\n",
    "for result in results:\n",
    "    if(result['name']=='James McAvoy'):\n",
    "        id=result['id']\n",
    "\n",
    "url1='https://api.themoviedb.org/3'\n",
    "params1={'api_key':'7db3160f5a6a9f49bb1ef8f6a2bcc230'}\n",
    "response1=requests.get(url1+'/person/'+str(id)+'/movie_credits',headers=headers,params=params)\n",
    "python_data=response1.json()\n",
    "for i in python_data['cast']:\n",
    "    if(i['original_title']=='Deadpool 2'):\n",
    "        flag=True\n",
    "if flag==True:\n",
    "    print('Yes')\n",
    "else:\n",
    "    print('No')\n",
    "\n",
    "\n"
   ]
  },
  {
   "cell_type": "markdown",
   "id": "1521b6dc",
   "metadata": {},
   "source": [
    "<b> Using the result obtained in previous question, find out if James McAvoy was credited for his role in movie Deadpool 2. Print Yes or No. </b>"
   ]
  },
  {
   "cell_type": "code",
   "execution_count": 14,
   "id": "53f006a0",
   "metadata": {},
   "outputs": [
    {
     "name": "stdout",
     "output_type": "stream",
     "text": [
      "No\n"
     ]
    }
   ],
   "source": [
    "import requests\n",
    "\n",
    "url = \"https://api.themoviedb.org/3/search/person?include_adult=false&language=en-US&page=1\"\n",
    "\n",
    "headers = {\"accept\": \"application/json\"}\n",
    "\n",
    "response = requests.get(url, headers=headers, params = {'query' : 'James McAvoy','api_key':'7db3160f5a6a9f49bb1ef8f6a2bcc230'})\n",
    "pd = response.json()\n",
    "id = pd['results'][0]['id']\n",
    "url2 = \"https://api.themoviedb.org/3/person/\" + str(id) + \"/movie_credits?language=en-US\"\n",
    "params={'api_key':'7db3160f5a6a9f49bb1ef8f6a2bcc230'}\n",
    "response2 = requests.get(url2, headers=headers,params=params)\n",
    "pd2 = response2.json()\n",
    "flag = True\n",
    "for i in pd2['cast']:\n",
    "    if i['title'] == 'Deadpool 2':\n",
    "        if 'uncredited' in i['character']:\n",
    "            flag = False\n",
    "            break\n",
    "if flag:\n",
    "    print('Yes')\n",
    "else:\n",
    "    print('No')"
   ]
  },
  {
   "cell_type": "markdown",
   "id": "3439c581",
   "metadata": {},
   "source": [
    "<b> Fetch the trending TV Shows for the week from the TMDb API and print the taglines of the top 5 shows. If there is no tagline, print 'Empty' instead\n",
    "\n",
    "Output Format:\n",
    "Print the taglines in new line. </b>"
   ]
  },
  {
   "cell_type": "code",
   "execution_count": 15,
   "id": "71216b24",
   "metadata": {},
   "outputs": [
    {
     "name": "stdout",
     "output_type": "stream",
     "text": [
      "Rise from the fall.\n",
      "Marriage is their most dangerous mission.\n",
      "The truth lies in the dark.\n",
      "Empty\n",
      "Set sail for One Piece!\n"
     ]
    }
   ],
   "source": [
    "import requests\n",
    "\n",
    "url = \"https://api.themoviedb.org/3/trending/tv/week\"\n",
    "\n",
    "headers = {\"accept\": \"application/json\"}\n",
    "\n",
    "response = requests.get(url, headers=headers,params={'api_key':'7db3160f5a6a9f49bb1ef8f6a2bcc230'})\n",
    "pd = response.json()\n",
    "\n",
    "for i in pd['results'][:5]:\n",
    "    id = i['id']\n",
    "    url2 = \"https://api.themoviedb.org/3/tv/\" + str(id)\n",
    "    response2 = requests.get(url2, headers=headers,params={'api_key':'7db3160f5a6a9f49bb1ef8f6a2bcc230'})\n",
    "    pd2 = response2.json()\n",
    "    if pd2['tagline'] == '':\n",
    "        print('Empty')\n",
    "    else:\n",
    "        print(pd2['tagline'])"
   ]
  },
  {
   "cell_type": "markdown",
   "id": "f3ddbcae",
   "metadata": {},
   "source": [
    "<b> Print the names of all the TV shows to be aired today whose original language is english.\n",
    "\n",
    "Output Format:\n",
    "Print the name of each TV show in a new line. </b>"
   ]
  },
  {
   "cell_type": "code",
   "execution_count": 16,
   "id": "66a97e9d",
   "metadata": {},
   "outputs": [
    {
     "name": "stdout",
     "output_type": "stream",
     "text": [
      "The Tonight Show Starring Jimmy Fallon\n",
      "The Daily Show\n",
      "The Late Show with Stephen Colbert\n",
      "Coronation Street\n",
      "The Kelly Clarkson Show\n",
      "Watch What Happens Live with Andy Cohen\n",
      "Late Night with Seth Meyers\n",
      "QI\n",
      "The Jennifer Hudson Show\n",
      "Sherri\n",
      "Love Island: All Stars\n",
      "EastEnders\n",
      "The ReidOut\n",
      "Doctors\n",
      "WWE NXT\n",
      "Richard Osman's House of Games\n",
      "Emmerdale\n",
      "Inside the NFL\n",
      "Silent Witness\n",
      "La Brea\n",
      "Married at First Sight\n",
      "Home and Away\n",
      "Hollyoaks\n",
      "The Patrick Star Show\n",
      "Australian Idol\n",
      "FBI\n",
      "FBI\n",
      "This Hour Has 22 Minutes\n",
      "Name That Tune\n",
      "The View\n",
      "Shortland Street\n",
      "Naked News\n",
      "Neighbours\n",
      "Finding Your Roots\n",
      "Escape to the Country\n",
      "Good Trouble\n",
      "The Price Is Right\n",
      "Homes Under the Hammer\n",
      "Neighbours\n",
      "Quantum Leap\n",
      "Batwheels\n",
      "Storyville\n",
      "Days of Our Lives\n",
      "FBI: International\n",
      "After Midnight\n",
      "Naked News\n",
      "The Curse of Oak Island\n",
      "First Dates\n",
      "Alex Wagner Tonight\n",
      "Geordie Shore\n",
      "Vanderpump Rules\n",
      "Man reikia meilės\n",
      "The New Look\n",
      "The Martin Lewis Money Show\n",
      "Australian Survivor\n",
      "Dirty Laundry\n",
      "Waterloo Road\n",
      "Night Court\n",
      "Chopped\n",
      "Wipeout\n",
      "999: On the Front Line\n",
      "Reef School\n",
      "For the Love of DILFs\n",
      "Son of a Critch\n",
      "Sunderland 'Til I Die\n",
      "One More Time\n",
      "Run the Burbs\n",
      "Dogs Behaving (Very) Badly\n",
      "Junior Doctors Down Under\n",
      "Sunderland 'Til I Die\n",
      "Life Below Zero: Next Generation\n",
      "Asawa Ng Asawa Ko\n",
      "Fixer to Fabulous\n",
      "¡Allá tú!\n",
      "Makiling\n",
      "Battle of the Generations\n",
      "Love & Hip Hop Atlanta\n",
      "The Floor\n",
      "MLP MYM\n",
      "Gospel\n",
      "The Bermuda Triangle: Into Cursed Waters\n",
      "Real Time Crime\n",
      "Encounter Party\n",
      "Dinner Time Live with David Chang\n",
      "Life Below Zero: First Alaskans\n",
      "Comfort Food With Spencer Watts\n",
      "Big Little Brawlers\n",
      "TIKTOK: Murders Gone Viral\n",
      "Inside Penneys\n",
      "Love. Die. Repeat.\n",
      "Rick Stein's Food Stories\n",
      "The Hairy Bikers Go West\n",
      "Clean It, Fix It\n",
      "Deal or No Deal\n",
      "Back Roads\n",
      "Art's Wildest Movement: Mannerism\n",
      "Eco-Heroines\n",
      "BONES 25: DREAMING FORWARD\n"
     ]
    }
   ],
   "source": [
    "import requests\n",
    "\n",
    "url = \"https://api.themoviedb.org/3/tv/airing_today?language=en&page=1\"\n",
    "\n",
    "headers = {\"accept\": \"application/json\"}\n",
    "\n",
    "response = requests.get(url, headers=headers,params={'api_key':'7db3160f5a6a9f49bb1ef8f6a2bcc230'})\n",
    "pd = response.json()\n",
    "total = pd['total_pages']\n",
    "for i in range(1,total + 1):\n",
    "    url = \"https://api.themoviedb.org/3/tv/airing_today?language=en\"\n",
    "    response = requests.get(url, headers=headers, params = {'page' : i,'api_key':'7db3160f5a6a9f49bb1ef8f6a2bcc230'})\n",
    "    pd = response.json()\n",
    "    for i in pd['results']:\n",
    "        if i['original_language'] == 'en':\n",
    "            print(i['name'])\n"
   ]
  },
  {
   "cell_type": "markdown",
   "id": "6b5faf10",
   "metadata": {},
   "source": [
    "<b> Count the number of males and females in the cast of \"Money Heist\" using the TMDb API.\n",
    "\n",
    "Output Format:\n",
    "Print the count of male and female space separated.\n",
    "male_count female_count </b>"
   ]
  },
  {
   "cell_type": "code",
   "execution_count": 17,
   "id": "619e86dd",
   "metadata": {},
   "outputs": [
    {
     "name": "stdout",
     "output_type": "stream",
     "text": [
      "10 5\n"
     ]
    }
   ],
   "source": [
    "import requests\n",
    "\n",
    "url = \"https://api.themoviedb.org/3/search/tv?include_adult=false&language=en-US&page=1\"\n",
    "\n",
    "headers = {\"accept\": \"application/json\"}\n",
    "\n",
    "response = requests.get(url, headers=headers, params = {'query' : 'Money Heist','api_key':'7db3160f5a6a9f49bb1ef8f6a2bcc230'})\n",
    "pd = response.json()\n",
    "id = pd['results'][0]['id']\n",
    "url2 = \"https://api.themoviedb.org/3/tv/\" + str(id) + \"/credits?language=en-US\"\n",
    "\n",
    "response2 = requests.get(url2, headers=headers,params = {'api_key':'7db3160f5a6a9f49bb1ef8f6a2bcc230'})\n",
    "pd2 = response2.json()\n",
    "female = 0\n",
    "male = 0\n",
    "for i in pd2['cast']:\n",
    "    if i['gender'] == 1:\n",
    "        female += 1\n",
    "    else:\n",
    "        male += 1\n",
    "print(male,female)"
   ]
  },
  {
   "cell_type": "markdown",
   "id": "0bf048de",
   "metadata": {},
   "source": [
    "<b> Fetch the name and air date of S06E05 of the TV Show 'The Big Bang Theory' from TMDb API.\n",
    "\n",
    "Output Format:\n",
    "episode_name - air_date </b>"
   ]
  },
  {
   "cell_type": "code",
   "execution_count": 20,
   "id": "f6f4b4d4",
   "metadata": {},
   "outputs": [
    {
     "name": "stdout",
     "output_type": "stream",
     "text": [
      "The Holographic Excitation  -  2012-10-25\n"
     ]
    }
   ],
   "source": [
    "import requests\n",
    "\n",
    "url = \"https://api.themoviedb.org/3/search/tv\"\n",
    "\n",
    "headers = {\"accept\": \"application/json\"}\n",
    "params={'query':'The Big Bang Theory','api_key':'7db3160f5a6a9f49bb1ef8f6a2bcc230'}\n",
    "response = requests.get(url, headers=headers, params =params)\n",
    "pd = response.json()\n",
    "id = pd['results'][0]['id']\n",
    "url2 = 'https://api.themoviedb.org/3/tv/'+str(id)+'/season/6/episode/5'\n",
    "response2 = requests.get(url2, headers=headers,params={'api_key':'7db3160f5a6a9f49bb1ef8f6a2bcc230'})\n",
    "pd2 = response2.json()\n",
    "print(pd2['name'],' - ', pd2['air_date'])"
   ]
  },
  {
   "cell_type": "markdown",
   "id": "074e0219",
   "metadata": {},
   "source": [
    "<b> Fetch the overview of the TV Show \"FRIENDS\" using TMDb API.\n",
    "\n",
    "Output Format:\n",
    "Print the Overview. </b>"
   ]
  },
  {
   "cell_type": "code",
   "execution_count": 21,
   "id": "d32326d8",
   "metadata": {},
   "outputs": [
    {
     "name": "stdout",
     "output_type": "stream",
     "text": [
      "Six young people from New York City, on their own and struggling to survive in the real world, find the companionship, comfort and support they get from each other to be the perfect antidote to the pressures of life.\n",
      "Friends is a short-lived kids-oriented drama that aired in the spring of 1979. The series, which was produced by Aaron Spelling and aired on ABC, starred Charlie Aiken, Jill Whelan, and Jarrod Johnson as three Southern Californian 11-year-olds. Karen Morrow also appeared. Only five one-hour episodes were produced before the series was cancelled.\n",
      "\n"
     ]
    }
   ],
   "source": [
    "import requests\n",
    "import json\n",
    "\n",
    "url='https://api.themoviedb.org/3/search/tv'\n",
    "headers = {\"accept\": \"application/json\"}\n",
    "params={'query':'FRIENDS','api_key':'7db3160f5a6a9f49bb1ef8f6a2bcc230'}\n",
    "response=requests.get(url,headers=headers,params=params)\n",
    "python_data=response.json()\n",
    "results=python_data.get('results')\n",
    "for result in results:\n",
    "    if(result['original_name']=='Friends'):\n",
    "        print(result['overview'])\n",
    "\n"
   ]
  },
  {
   "cell_type": "code",
   "execution_count": null,
   "id": "433efb52",
   "metadata": {},
   "outputs": [],
   "source": []
  }
 ],
 "metadata": {
  "kernelspec": {
   "display_name": "Python 3 (ipykernel)",
   "language": "python",
   "name": "python3"
  },
  "language_info": {
   "codemirror_mode": {
    "name": "ipython",
    "version": 3
   },
   "file_extension": ".py",
   "mimetype": "text/x-python",
   "name": "python",
   "nbconvert_exporter": "python",
   "pygments_lexer": "ipython3",
   "version": "3.9.13"
  }
 },
 "nbformat": 4,
 "nbformat_minor": 5
}
